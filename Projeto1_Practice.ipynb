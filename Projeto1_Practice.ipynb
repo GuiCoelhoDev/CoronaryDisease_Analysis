{
  "nbformat": 4,
  "nbformat_minor": 0,
  "metadata": {
    "colab": {
      "name": "Projeto1_Practice.ipynb",
      "provenance": [],
      "collapsed_sections": [
        "ZSoyjeGiXoRU",
        "AhpnTJKNjVgf"
      ],
      "authorship_tag": "ABX9TyOu+pC4urgIzOZ09Zgr8Kxh",
      "include_colab_link": true
    },
    "kernelspec": {
      "name": "python3",
      "display_name": "Python 3"
    },
    "language_info": {
      "name": "python"
    }
  },
  "cells": [
    {
      "cell_type": "markdown",
      "metadata": {
        "id": "view-in-github",
        "colab_type": "text"
      },
      "source": [
        "<a href=\"https://colab.research.google.com/github/GuiCoelhoDev/CoronaryDisease_Analysis/blob/main/Projeto1_Practice.ipynb\" target=\"_parent\"><img src=\"https://colab.research.google.com/assets/colab-badge.svg\" alt=\"Open In Colab\"/></a>"
      ]
    },
    {
      "cell_type": "markdown",
      "source": [
        "# Imports and Google Drive Auth"
      ],
      "metadata": {
        "id": "TaiL8ZQWXeI4"
      }
    },
    {
      "cell_type": "code",
      "source": [
        "#@title  Imports\n",
        "!pip install -U -q PyDrive\n",
        "from pydrive.auth import GoogleAuth\n",
        "from pydrive.drive import GoogleDrive\n",
        "from google.colab import auth\n",
        "from oauth2client.client import GoogleCredentials\n",
        "\n",
        "import pandas as pd\n",
        "import seaborn as sns\n",
        "import matplotlib.pyplot as plt\n",
        "from pandas.plotting import scatter_matrix\n",
        "\n",
        "\n",
        "\n",
        "from sklearn.model_selection import train_test_split # for splitting the data into train and test samples\n",
        "from sklearn.metrics import classification_report # for model evaluation metrics\n",
        "from sklearn import tree # for decision tree models\n",
        "from sklearn.metrics import plot_confusion_matrix, roc_curve, roc_auc_score\n",
        "\n",
        "import plotly.express as px  # for data visualization\n",
        "import plotly.graph_objects as go # for data visualization\n",
        "import graphviz # for plotting decision tree graphs\n",
        "\n",
        "from sklearn.model_selection import cross_val_score\n",
        "from sklearn.model_selection import StratifiedKFold\n",
        "\n",
        "\n"
      ],
      "metadata": {
        "id": "yktOg1m7iqHA"
      },
      "execution_count": null,
      "outputs": []
    },
    {
      "cell_type": "code",
      "execution_count": null,
      "metadata": {
        "id": "ZOrtUr0UXK27"
      },
      "outputs": [],
      "source": [
        "#@title  Google Drive Auth\n",
        "\n",
        "# Authenticate and create the PyDrive client.\n",
        "auth.authenticate_user()\n",
        "gauth = GoogleAuth()\n",
        "gauth.credentials = GoogleCredentials.get_application_default()\n",
        "drive = GoogleDrive(gauth)\n"
      ]
    },
    {
      "cell_type": "code",
      "source": [
        "#@title Load dataset\n",
        "\n",
        "link = 'https://drive.google.com/file/d/1QFfy98RZcXYdx2U8SePO1TcYwZ236aPT/view?usp=sharing'\n",
        "\n",
        "fluff, parsed = link.split('/d/')\n",
        "id, fluff = parsed.split('/')\n",
        "\n",
        "downloaded = drive.CreateFile({'id':id}) \n",
        "downloaded.GetContentFile('SA_heart.csv')\n",
        "df = pd.read_csv('SA_heart.csv')\n",
        "df\n",
        "# Dataset is now stored in a Pandas Dataframe"
      ],
      "metadata": {
        "colab": {
          "base_uri": "https://localhost:8080/",
          "height": 424
        },
        "id": "4dezB_QVh0rX",
        "outputId": "5f39d00e-becd-4422-931e-0e5c88cf0be6"
      },
      "execution_count": null,
      "outputs": [
        {
          "output_type": "execute_result",
          "data": {
            "text/html": [
              "\n",
              "  <div id=\"df-ce4d9f7e-eee9-4bcc-bf0e-31a85d54f664\">\n",
              "    <div class=\"colab-df-container\">\n",
              "      <div>\n",
              "<style scoped>\n",
              "    .dataframe tbody tr th:only-of-type {\n",
              "        vertical-align: middle;\n",
              "    }\n",
              "\n",
              "    .dataframe tbody tr th {\n",
              "        vertical-align: top;\n",
              "    }\n",
              "\n",
              "    .dataframe thead th {\n",
              "        text-align: right;\n",
              "    }\n",
              "</style>\n",
              "<table border=\"1\" class=\"dataframe\">\n",
              "  <thead>\n",
              "    <tr style=\"text-align: right;\">\n",
              "      <th></th>\n",
              "      <th>id</th>\n",
              "      <th>sbp</th>\n",
              "      <th>tobacco</th>\n",
              "      <th>ldl</th>\n",
              "      <th>adiposity</th>\n",
              "      <th>famhist</th>\n",
              "      <th>typea</th>\n",
              "      <th>obesity</th>\n",
              "      <th>alcohol</th>\n",
              "      <th>age</th>\n",
              "      <th>chd</th>\n",
              "    </tr>\n",
              "  </thead>\n",
              "  <tbody>\n",
              "    <tr>\n",
              "      <th>0</th>\n",
              "      <td>1</td>\n",
              "      <td>160</td>\n",
              "      <td>12.00</td>\n",
              "      <td>5.73</td>\n",
              "      <td>23.11</td>\n",
              "      <td>Present</td>\n",
              "      <td>49</td>\n",
              "      <td>25.30</td>\n",
              "      <td>97.20</td>\n",
              "      <td>52</td>\n",
              "      <td>1</td>\n",
              "    </tr>\n",
              "    <tr>\n",
              "      <th>1</th>\n",
              "      <td>2</td>\n",
              "      <td>144</td>\n",
              "      <td>0.01</td>\n",
              "      <td>4.41</td>\n",
              "      <td>28.61</td>\n",
              "      <td>Absent</td>\n",
              "      <td>55</td>\n",
              "      <td>28.87</td>\n",
              "      <td>2.06</td>\n",
              "      <td>63</td>\n",
              "      <td>1</td>\n",
              "    </tr>\n",
              "    <tr>\n",
              "      <th>2</th>\n",
              "      <td>3</td>\n",
              "      <td>118</td>\n",
              "      <td>0.08</td>\n",
              "      <td>3.48</td>\n",
              "      <td>32.28</td>\n",
              "      <td>Present</td>\n",
              "      <td>52</td>\n",
              "      <td>29.14</td>\n",
              "      <td>3.81</td>\n",
              "      <td>46</td>\n",
              "      <td>0</td>\n",
              "    </tr>\n",
              "    <tr>\n",
              "      <th>3</th>\n",
              "      <td>4</td>\n",
              "      <td>170</td>\n",
              "      <td>7.50</td>\n",
              "      <td>6.41</td>\n",
              "      <td>38.03</td>\n",
              "      <td>Present</td>\n",
              "      <td>51</td>\n",
              "      <td>31.99</td>\n",
              "      <td>24.26</td>\n",
              "      <td>58</td>\n",
              "      <td>1</td>\n",
              "    </tr>\n",
              "    <tr>\n",
              "      <th>4</th>\n",
              "      <td>5</td>\n",
              "      <td>134</td>\n",
              "      <td>13.60</td>\n",
              "      <td>3.50</td>\n",
              "      <td>27.78</td>\n",
              "      <td>Present</td>\n",
              "      <td>60</td>\n",
              "      <td>25.99</td>\n",
              "      <td>57.34</td>\n",
              "      <td>49</td>\n",
              "      <td>1</td>\n",
              "    </tr>\n",
              "    <tr>\n",
              "      <th>...</th>\n",
              "      <td>...</td>\n",
              "      <td>...</td>\n",
              "      <td>...</td>\n",
              "      <td>...</td>\n",
              "      <td>...</td>\n",
              "      <td>...</td>\n",
              "      <td>...</td>\n",
              "      <td>...</td>\n",
              "      <td>...</td>\n",
              "      <td>...</td>\n",
              "      <td>...</td>\n",
              "    </tr>\n",
              "    <tr>\n",
              "      <th>457</th>\n",
              "      <td>459</td>\n",
              "      <td>214</td>\n",
              "      <td>0.40</td>\n",
              "      <td>5.98</td>\n",
              "      <td>31.72</td>\n",
              "      <td>Absent</td>\n",
              "      <td>64</td>\n",
              "      <td>28.45</td>\n",
              "      <td>0.00</td>\n",
              "      <td>58</td>\n",
              "      <td>0</td>\n",
              "    </tr>\n",
              "    <tr>\n",
              "      <th>458</th>\n",
              "      <td>460</td>\n",
              "      <td>182</td>\n",
              "      <td>4.20</td>\n",
              "      <td>4.41</td>\n",
              "      <td>32.10</td>\n",
              "      <td>Absent</td>\n",
              "      <td>52</td>\n",
              "      <td>28.61</td>\n",
              "      <td>18.72</td>\n",
              "      <td>52</td>\n",
              "      <td>1</td>\n",
              "    </tr>\n",
              "    <tr>\n",
              "      <th>459</th>\n",
              "      <td>461</td>\n",
              "      <td>108</td>\n",
              "      <td>3.00</td>\n",
              "      <td>1.59</td>\n",
              "      <td>15.23</td>\n",
              "      <td>Absent</td>\n",
              "      <td>40</td>\n",
              "      <td>20.09</td>\n",
              "      <td>26.64</td>\n",
              "      <td>55</td>\n",
              "      <td>0</td>\n",
              "    </tr>\n",
              "    <tr>\n",
              "      <th>460</th>\n",
              "      <td>462</td>\n",
              "      <td>118</td>\n",
              "      <td>5.40</td>\n",
              "      <td>11.61</td>\n",
              "      <td>30.79</td>\n",
              "      <td>Absent</td>\n",
              "      <td>64</td>\n",
              "      <td>27.35</td>\n",
              "      <td>23.97</td>\n",
              "      <td>40</td>\n",
              "      <td>0</td>\n",
              "    </tr>\n",
              "    <tr>\n",
              "      <th>461</th>\n",
              "      <td>463</td>\n",
              "      <td>132</td>\n",
              "      <td>0.00</td>\n",
              "      <td>4.82</td>\n",
              "      <td>33.41</td>\n",
              "      <td>Present</td>\n",
              "      <td>62</td>\n",
              "      <td>14.70</td>\n",
              "      <td>0.00</td>\n",
              "      <td>46</td>\n",
              "      <td>1</td>\n",
              "    </tr>\n",
              "  </tbody>\n",
              "</table>\n",
              "<p>462 rows × 11 columns</p>\n",
              "</div>\n",
              "      <button class=\"colab-df-convert\" onclick=\"convertToInteractive('df-ce4d9f7e-eee9-4bcc-bf0e-31a85d54f664')\"\n",
              "              title=\"Convert this dataframe to an interactive table.\"\n",
              "              style=\"display:none;\">\n",
              "        \n",
              "  <svg xmlns=\"http://www.w3.org/2000/svg\" height=\"24px\"viewBox=\"0 0 24 24\"\n",
              "       width=\"24px\">\n",
              "    <path d=\"M0 0h24v24H0V0z\" fill=\"none\"/>\n",
              "    <path d=\"M18.56 5.44l.94 2.06.94-2.06 2.06-.94-2.06-.94-.94-2.06-.94 2.06-2.06.94zm-11 1L8.5 8.5l.94-2.06 2.06-.94-2.06-.94L8.5 2.5l-.94 2.06-2.06.94zm10 10l.94 2.06.94-2.06 2.06-.94-2.06-.94-.94-2.06-.94 2.06-2.06.94z\"/><path d=\"M17.41 7.96l-1.37-1.37c-.4-.4-.92-.59-1.43-.59-.52 0-1.04.2-1.43.59L10.3 9.45l-7.72 7.72c-.78.78-.78 2.05 0 2.83L4 21.41c.39.39.9.59 1.41.59.51 0 1.02-.2 1.41-.59l7.78-7.78 2.81-2.81c.8-.78.8-2.07 0-2.86zM5.41 20L4 18.59l7.72-7.72 1.47 1.35L5.41 20z\"/>\n",
              "  </svg>\n",
              "      </button>\n",
              "      \n",
              "  <style>\n",
              "    .colab-df-container {\n",
              "      display:flex;\n",
              "      flex-wrap:wrap;\n",
              "      gap: 12px;\n",
              "    }\n",
              "\n",
              "    .colab-df-convert {\n",
              "      background-color: #E8F0FE;\n",
              "      border: none;\n",
              "      border-radius: 50%;\n",
              "      cursor: pointer;\n",
              "      display: none;\n",
              "      fill: #1967D2;\n",
              "      height: 32px;\n",
              "      padding: 0 0 0 0;\n",
              "      width: 32px;\n",
              "    }\n",
              "\n",
              "    .colab-df-convert:hover {\n",
              "      background-color: #E2EBFA;\n",
              "      box-shadow: 0px 1px 2px rgba(60, 64, 67, 0.3), 0px 1px 3px 1px rgba(60, 64, 67, 0.15);\n",
              "      fill: #174EA6;\n",
              "    }\n",
              "\n",
              "    [theme=dark] .colab-df-convert {\n",
              "      background-color: #3B4455;\n",
              "      fill: #D2E3FC;\n",
              "    }\n",
              "\n",
              "    [theme=dark] .colab-df-convert:hover {\n",
              "      background-color: #434B5C;\n",
              "      box-shadow: 0px 1px 3px 1px rgba(0, 0, 0, 0.15);\n",
              "      filter: drop-shadow(0px 1px 2px rgba(0, 0, 0, 0.3));\n",
              "      fill: #FFFFFF;\n",
              "    }\n",
              "  </style>\n",
              "\n",
              "      <script>\n",
              "        const buttonEl =\n",
              "          document.querySelector('#df-ce4d9f7e-eee9-4bcc-bf0e-31a85d54f664 button.colab-df-convert');\n",
              "        buttonEl.style.display =\n",
              "          google.colab.kernel.accessAllowed ? 'block' : 'none';\n",
              "\n",
              "        async function convertToInteractive(key) {\n",
              "          const element = document.querySelector('#df-ce4d9f7e-eee9-4bcc-bf0e-31a85d54f664');\n",
              "          const dataTable =\n",
              "            await google.colab.kernel.invokeFunction('convertToInteractive',\n",
              "                                                     [key], {});\n",
              "          if (!dataTable) return;\n",
              "\n",
              "          const docLinkHtml = 'Like what you see? Visit the ' +\n",
              "            '<a target=\"_blank\" href=https://colab.research.google.com/notebooks/data_table.ipynb>data table notebook</a>'\n",
              "            + ' to learn more about interactive tables.';\n",
              "          element.innerHTML = '';\n",
              "          dataTable['output_type'] = 'display_data';\n",
              "          await google.colab.output.renderOutput(dataTable, element);\n",
              "          const docLink = document.createElement('div');\n",
              "          docLink.innerHTML = docLinkHtml;\n",
              "          element.appendChild(docLink);\n",
              "        }\n",
              "      </script>\n",
              "    </div>\n",
              "  </div>\n",
              "  "
            ],
            "text/plain": [
              "      id  sbp  tobacco    ldl  adiposity  ... typea  obesity  alcohol  age  chd\n",
              "0      1  160    12.00   5.73      23.11  ...    49    25.30    97.20   52    1\n",
              "1      2  144     0.01   4.41      28.61  ...    55    28.87     2.06   63    1\n",
              "2      3  118     0.08   3.48      32.28  ...    52    29.14     3.81   46    0\n",
              "3      4  170     7.50   6.41      38.03  ...    51    31.99    24.26   58    1\n",
              "4      5  134    13.60   3.50      27.78  ...    60    25.99    57.34   49    1\n",
              "..   ...  ...      ...    ...        ...  ...   ...      ...      ...  ...  ...\n",
              "457  459  214     0.40   5.98      31.72  ...    64    28.45     0.00   58    0\n",
              "458  460  182     4.20   4.41      32.10  ...    52    28.61    18.72   52    1\n",
              "459  461  108     3.00   1.59      15.23  ...    40    20.09    26.64   55    0\n",
              "460  462  118     5.40  11.61      30.79  ...    64    27.35    23.97   40    0\n",
              "461  463  132     0.00   4.82      33.41  ...    62    14.70     0.00   46    1\n",
              "\n",
              "[462 rows x 11 columns]"
            ]
          },
          "metadata": {},
          "execution_count": 8
        }
      ]
    },
    {
      "cell_type": "code",
      "source": [
        "#@title Pre Processing\n",
        "\n",
        "dataset=df[pd.isnull(df['chd'])==False]\n",
        "dataset=dataset.fillna(dataset.mean())\n",
        "dataset['famhist'] = dataset['famhist'].apply(lambda x: 1 if x=='Present' else 0)\n",
        "dataset"
      ],
      "metadata": {
        "colab": {
          "base_uri": "https://localhost:8080/",
          "height": 478
        },
        "id": "DCstRKWQTH4F",
        "outputId": "7ba3a8df-4820-4a78-a226-70dee429b61f"
      },
      "execution_count": null,
      "outputs": [
        {
          "output_type": "stream",
          "name": "stderr",
          "text": [
            "/usr/local/lib/python3.7/dist-packages/ipykernel_launcher.py:4: FutureWarning: Dropping of nuisance columns in DataFrame reductions (with 'numeric_only=None') is deprecated; in a future version this will raise TypeError.  Select only valid columns before calling the reduction.\n",
            "  after removing the cwd from sys.path.\n"
          ]
        },
        {
          "output_type": "execute_result",
          "data": {
            "text/html": [
              "\n",
              "  <div id=\"df-700152c5-1e15-4d5e-a066-759515c0f2cb\">\n",
              "    <div class=\"colab-df-container\">\n",
              "      <div>\n",
              "<style scoped>\n",
              "    .dataframe tbody tr th:only-of-type {\n",
              "        vertical-align: middle;\n",
              "    }\n",
              "\n",
              "    .dataframe tbody tr th {\n",
              "        vertical-align: top;\n",
              "    }\n",
              "\n",
              "    .dataframe thead th {\n",
              "        text-align: right;\n",
              "    }\n",
              "</style>\n",
              "<table border=\"1\" class=\"dataframe\">\n",
              "  <thead>\n",
              "    <tr style=\"text-align: right;\">\n",
              "      <th></th>\n",
              "      <th>id</th>\n",
              "      <th>sbp</th>\n",
              "      <th>tobacco</th>\n",
              "      <th>ldl</th>\n",
              "      <th>adiposity</th>\n",
              "      <th>famhist</th>\n",
              "      <th>typea</th>\n",
              "      <th>obesity</th>\n",
              "      <th>alcohol</th>\n",
              "      <th>age</th>\n",
              "      <th>chd</th>\n",
              "    </tr>\n",
              "  </thead>\n",
              "  <tbody>\n",
              "    <tr>\n",
              "      <th>0</th>\n",
              "      <td>1</td>\n",
              "      <td>160</td>\n",
              "      <td>12.00</td>\n",
              "      <td>5.73</td>\n",
              "      <td>23.11</td>\n",
              "      <td>1</td>\n",
              "      <td>49</td>\n",
              "      <td>25.30</td>\n",
              "      <td>97.20</td>\n",
              "      <td>52</td>\n",
              "      <td>1</td>\n",
              "    </tr>\n",
              "    <tr>\n",
              "      <th>1</th>\n",
              "      <td>2</td>\n",
              "      <td>144</td>\n",
              "      <td>0.01</td>\n",
              "      <td>4.41</td>\n",
              "      <td>28.61</td>\n",
              "      <td>0</td>\n",
              "      <td>55</td>\n",
              "      <td>28.87</td>\n",
              "      <td>2.06</td>\n",
              "      <td>63</td>\n",
              "      <td>1</td>\n",
              "    </tr>\n",
              "    <tr>\n",
              "      <th>2</th>\n",
              "      <td>3</td>\n",
              "      <td>118</td>\n",
              "      <td>0.08</td>\n",
              "      <td>3.48</td>\n",
              "      <td>32.28</td>\n",
              "      <td>1</td>\n",
              "      <td>52</td>\n",
              "      <td>29.14</td>\n",
              "      <td>3.81</td>\n",
              "      <td>46</td>\n",
              "      <td>0</td>\n",
              "    </tr>\n",
              "    <tr>\n",
              "      <th>3</th>\n",
              "      <td>4</td>\n",
              "      <td>170</td>\n",
              "      <td>7.50</td>\n",
              "      <td>6.41</td>\n",
              "      <td>38.03</td>\n",
              "      <td>1</td>\n",
              "      <td>51</td>\n",
              "      <td>31.99</td>\n",
              "      <td>24.26</td>\n",
              "      <td>58</td>\n",
              "      <td>1</td>\n",
              "    </tr>\n",
              "    <tr>\n",
              "      <th>4</th>\n",
              "      <td>5</td>\n",
              "      <td>134</td>\n",
              "      <td>13.60</td>\n",
              "      <td>3.50</td>\n",
              "      <td>27.78</td>\n",
              "      <td>1</td>\n",
              "      <td>60</td>\n",
              "      <td>25.99</td>\n",
              "      <td>57.34</td>\n",
              "      <td>49</td>\n",
              "      <td>1</td>\n",
              "    </tr>\n",
              "    <tr>\n",
              "      <th>...</th>\n",
              "      <td>...</td>\n",
              "      <td>...</td>\n",
              "      <td>...</td>\n",
              "      <td>...</td>\n",
              "      <td>...</td>\n",
              "      <td>...</td>\n",
              "      <td>...</td>\n",
              "      <td>...</td>\n",
              "      <td>...</td>\n",
              "      <td>...</td>\n",
              "      <td>...</td>\n",
              "    </tr>\n",
              "    <tr>\n",
              "      <th>457</th>\n",
              "      <td>459</td>\n",
              "      <td>214</td>\n",
              "      <td>0.40</td>\n",
              "      <td>5.98</td>\n",
              "      <td>31.72</td>\n",
              "      <td>0</td>\n",
              "      <td>64</td>\n",
              "      <td>28.45</td>\n",
              "      <td>0.00</td>\n",
              "      <td>58</td>\n",
              "      <td>0</td>\n",
              "    </tr>\n",
              "    <tr>\n",
              "      <th>458</th>\n",
              "      <td>460</td>\n",
              "      <td>182</td>\n",
              "      <td>4.20</td>\n",
              "      <td>4.41</td>\n",
              "      <td>32.10</td>\n",
              "      <td>0</td>\n",
              "      <td>52</td>\n",
              "      <td>28.61</td>\n",
              "      <td>18.72</td>\n",
              "      <td>52</td>\n",
              "      <td>1</td>\n",
              "    </tr>\n",
              "    <tr>\n",
              "      <th>459</th>\n",
              "      <td>461</td>\n",
              "      <td>108</td>\n",
              "      <td>3.00</td>\n",
              "      <td>1.59</td>\n",
              "      <td>15.23</td>\n",
              "      <td>0</td>\n",
              "      <td>40</td>\n",
              "      <td>20.09</td>\n",
              "      <td>26.64</td>\n",
              "      <td>55</td>\n",
              "      <td>0</td>\n",
              "    </tr>\n",
              "    <tr>\n",
              "      <th>460</th>\n",
              "      <td>462</td>\n",
              "      <td>118</td>\n",
              "      <td>5.40</td>\n",
              "      <td>11.61</td>\n",
              "      <td>30.79</td>\n",
              "      <td>0</td>\n",
              "      <td>64</td>\n",
              "      <td>27.35</td>\n",
              "      <td>23.97</td>\n",
              "      <td>40</td>\n",
              "      <td>0</td>\n",
              "    </tr>\n",
              "    <tr>\n",
              "      <th>461</th>\n",
              "      <td>463</td>\n",
              "      <td>132</td>\n",
              "      <td>0.00</td>\n",
              "      <td>4.82</td>\n",
              "      <td>33.41</td>\n",
              "      <td>1</td>\n",
              "      <td>62</td>\n",
              "      <td>14.70</td>\n",
              "      <td>0.00</td>\n",
              "      <td>46</td>\n",
              "      <td>1</td>\n",
              "    </tr>\n",
              "  </tbody>\n",
              "</table>\n",
              "<p>462 rows × 11 columns</p>\n",
              "</div>\n",
              "      <button class=\"colab-df-convert\" onclick=\"convertToInteractive('df-700152c5-1e15-4d5e-a066-759515c0f2cb')\"\n",
              "              title=\"Convert this dataframe to an interactive table.\"\n",
              "              style=\"display:none;\">\n",
              "        \n",
              "  <svg xmlns=\"http://www.w3.org/2000/svg\" height=\"24px\"viewBox=\"0 0 24 24\"\n",
              "       width=\"24px\">\n",
              "    <path d=\"M0 0h24v24H0V0z\" fill=\"none\"/>\n",
              "    <path d=\"M18.56 5.44l.94 2.06.94-2.06 2.06-.94-2.06-.94-.94-2.06-.94 2.06-2.06.94zm-11 1L8.5 8.5l.94-2.06 2.06-.94-2.06-.94L8.5 2.5l-.94 2.06-2.06.94zm10 10l.94 2.06.94-2.06 2.06-.94-2.06-.94-.94-2.06-.94 2.06-2.06.94z\"/><path d=\"M17.41 7.96l-1.37-1.37c-.4-.4-.92-.59-1.43-.59-.52 0-1.04.2-1.43.59L10.3 9.45l-7.72 7.72c-.78.78-.78 2.05 0 2.83L4 21.41c.39.39.9.59 1.41.59.51 0 1.02-.2 1.41-.59l7.78-7.78 2.81-2.81c.8-.78.8-2.07 0-2.86zM5.41 20L4 18.59l7.72-7.72 1.47 1.35L5.41 20z\"/>\n",
              "  </svg>\n",
              "      </button>\n",
              "      \n",
              "  <style>\n",
              "    .colab-df-container {\n",
              "      display:flex;\n",
              "      flex-wrap:wrap;\n",
              "      gap: 12px;\n",
              "    }\n",
              "\n",
              "    .colab-df-convert {\n",
              "      background-color: #E8F0FE;\n",
              "      border: none;\n",
              "      border-radius: 50%;\n",
              "      cursor: pointer;\n",
              "      display: none;\n",
              "      fill: #1967D2;\n",
              "      height: 32px;\n",
              "      padding: 0 0 0 0;\n",
              "      width: 32px;\n",
              "    }\n",
              "\n",
              "    .colab-df-convert:hover {\n",
              "      background-color: #E2EBFA;\n",
              "      box-shadow: 0px 1px 2px rgba(60, 64, 67, 0.3), 0px 1px 3px 1px rgba(60, 64, 67, 0.15);\n",
              "      fill: #174EA6;\n",
              "    }\n",
              "\n",
              "    [theme=dark] .colab-df-convert {\n",
              "      background-color: #3B4455;\n",
              "      fill: #D2E3FC;\n",
              "    }\n",
              "\n",
              "    [theme=dark] .colab-df-convert:hover {\n",
              "      background-color: #434B5C;\n",
              "      box-shadow: 0px 1px 3px 1px rgba(0, 0, 0, 0.15);\n",
              "      filter: drop-shadow(0px 1px 2px rgba(0, 0, 0, 0.3));\n",
              "      fill: #FFFFFF;\n",
              "    }\n",
              "  </style>\n",
              "\n",
              "      <script>\n",
              "        const buttonEl =\n",
              "          document.querySelector('#df-700152c5-1e15-4d5e-a066-759515c0f2cb button.colab-df-convert');\n",
              "        buttonEl.style.display =\n",
              "          google.colab.kernel.accessAllowed ? 'block' : 'none';\n",
              "\n",
              "        async function convertToInteractive(key) {\n",
              "          const element = document.querySelector('#df-700152c5-1e15-4d5e-a066-759515c0f2cb');\n",
              "          const dataTable =\n",
              "            await google.colab.kernel.invokeFunction('convertToInteractive',\n",
              "                                                     [key], {});\n",
              "          if (!dataTable) return;\n",
              "\n",
              "          const docLinkHtml = 'Like what you see? Visit the ' +\n",
              "            '<a target=\"_blank\" href=https://colab.research.google.com/notebooks/data_table.ipynb>data table notebook</a>'\n",
              "            + ' to learn more about interactive tables.';\n",
              "          element.innerHTML = '';\n",
              "          dataTable['output_type'] = 'display_data';\n",
              "          await google.colab.output.renderOutput(dataTable, element);\n",
              "          const docLink = document.createElement('div');\n",
              "          docLink.innerHTML = docLinkHtml;\n",
              "          element.appendChild(docLink);\n",
              "        }\n",
              "      </script>\n",
              "    </div>\n",
              "  </div>\n",
              "  "
            ],
            "text/plain": [
              "      id  sbp  tobacco    ldl  adiposity  ...  typea  obesity  alcohol  age  chd\n",
              "0      1  160    12.00   5.73      23.11  ...     49    25.30    97.20   52    1\n",
              "1      2  144     0.01   4.41      28.61  ...     55    28.87     2.06   63    1\n",
              "2      3  118     0.08   3.48      32.28  ...     52    29.14     3.81   46    0\n",
              "3      4  170     7.50   6.41      38.03  ...     51    31.99    24.26   58    1\n",
              "4      5  134    13.60   3.50      27.78  ...     60    25.99    57.34   49    1\n",
              "..   ...  ...      ...    ...        ...  ...    ...      ...      ...  ...  ...\n",
              "457  459  214     0.40   5.98      31.72  ...     64    28.45     0.00   58    0\n",
              "458  460  182     4.20   4.41      32.10  ...     52    28.61    18.72   52    1\n",
              "459  461  108     3.00   1.59      15.23  ...     40    20.09    26.64   55    0\n",
              "460  462  118     5.40  11.61      30.79  ...     64    27.35    23.97   40    0\n",
              "461  463  132     0.00   4.82      33.41  ...     62    14.70     0.00   46    1\n",
              "\n",
              "[462 rows x 11 columns]"
            ]
          },
          "metadata": {},
          "execution_count": 9
        }
      ]
    },
    {
      "cell_type": "markdown",
      "source": [
        "# Questão 1\n",
        "\n",
        "### Summarize Data (Análise estatística dos dados)\n",
        "\n",
        "\n",
        "Utilizando o método shape, foi possível perceber que temos 462 amostras com 11 colunas. Sendo 9 colunas sendo variáveis produtoras, uma para o identificador e outra para a classificação da amostra.\n",
        "\n",
        "Posteriormente, foi utilizado o método sample. Foi escolhido ele em vez do head() ou tail() para poder pegar amostras aleatoriamente no dataset. Ao ver 20 amostras aleatórias, acredita-se que pessoas mais velhas tem mais chance de ter chd do que mais novos. Porém, não da pra ter certeza utilizando apenas esse método. É apenas uma hipótese\n",
        "\n",
        "Observando os resultados do describe(), verifiquei que a maior parte das amostras são rotuladas como SEM chd pois a média desse valor está em 0.346320.\n",
        "- Total: 462\n",
        "- 65% (302)- 0 (hasnt CHD)\n",
        "- 35% (160) - 1 (has CHD)\n",
        "\n",
        "sbp -> systolic blood pressure\n",
        "\n",
        "Perguntas a serem respondidas:\n",
        "\n",
        "1.   Dado todos os testados positivos, qual a proporção de idade, alcohol, tobacco, etc deles?\n",
        "\n",
        "\n"
      ],
      "metadata": {
        "id": "IWpUd1xiXihE"
      }
    },
    {
      "cell_type": "code",
      "source": [
        "#@title Análises gerais\n",
        "print(\"\\nShape\")\n",
        "print(dataset.shape)\n",
        "print(\"\\nSamples\")\n",
        "print(dataset.sample(20))\n",
        "print(\"\\nDescribe\")\n",
        "print(dataset[['obesity','tobacco', 'alcohol','chd','famhist']].describe())\n",
        "print(\"\\Columns\")\n",
        "print(dataset.columns)\n",
        "\n"
      ],
      "metadata": {
        "colab": {
          "base_uri": "https://localhost:8080/"
        },
        "id": "cstEIg21ivcA",
        "outputId": "84e17569-c5d7-4100-93b6-118cde6909ed"
      },
      "execution_count": null,
      "outputs": [
        {
          "output_type": "stream",
          "name": "stdout",
          "text": [
            "\n",
            "Shape\n",
            "(462, 11)\n",
            "\n",
            "Samples\n",
            "      id  sbp  tobacco    ldl  adiposity  ...  typea  obesity  alcohol  age  chd\n",
            "244  245  126     4.60   7.40      31.99  ...     57    28.67     0.37   60    1\n",
            "305  307  128     0.00   3.22      26.55  ...     39    26.59    16.71   49    0\n",
            "407  409  200    19.20   4.43      40.60  ...     55    32.04    36.00   60    1\n",
            "415  417  134     1.10   3.54      20.41  ...     58    24.54    39.91   39    1\n",
            "199  200  148     0.00   4.66      24.39  ...     50    25.26     4.03   27    0\n",
            "455  457  128     2.24   2.83      26.48  ...     48    23.96    47.42   27    1\n",
            "443  445  134     0.57   4.75      23.07  ...     67    26.33     0.00   37    0\n",
            "111  112  168     9.00   8.53      24.48  ...     69    26.18     4.63   54    1\n",
            "297  299  136     0.00   2.28      18.14  ...     55    22.59     0.00   17    0\n",
            "284  286  148    15.00   4.98      36.94  ...     72    31.83    66.27   41    1\n",
            "406  408  180    25.01   3.70      38.11  ...     57    30.54     0.00   61    1\n",
            "372  374  128     1.60   5.41      29.30  ...     68    29.38    23.97   32    0\n",
            "254  255  161     9.00   4.65      15.16  ...     58    23.76    43.20   46    0\n",
            "397  399  218    11.20   2.77      30.79  ...     38    24.86    90.93   48    1\n",
            "41    42  144     0.04   3.38      23.61  ...     30    23.75     4.66   30    0\n",
            "263  265  136     5.00   4.19      23.99  ...     68    27.80    25.86   35    0\n",
            "59    60  121     0.80   5.29      18.95  ...     47    22.51     0.00   61    0\n",
            "89    90  122     0.72   4.04      32.38  ...     34    28.34     0.00   55    0\n",
            "74    75  128     0.40   6.17      26.35  ...     64    27.86    11.11   34    0\n",
            "404  406  160     1.15  10.19      39.71  ...     31    31.65    20.52   57    0\n",
            "\n",
            "[20 rows x 11 columns]\n",
            "\n",
            "Describe\n",
            "          obesity     tobacco     alcohol         chd     famhist\n",
            "count  462.000000  462.000000  462.000000  462.000000  462.000000\n",
            "mean    26.044113    3.635649   17.044394    0.346320    0.415584\n",
            "std      4.213680    4.593024   24.481059    0.476313    0.493357\n",
            "min     14.700000    0.000000    0.000000    0.000000    0.000000\n",
            "25%     22.985000    0.052500    0.510000    0.000000    0.000000\n",
            "50%     25.805000    2.000000    7.510000    0.000000    0.000000\n",
            "75%     28.497500    5.500000   23.892500    1.000000    1.000000\n",
            "max     46.580000   31.200000  147.190000    1.000000    1.000000\n",
            "\\Columns\n",
            "Index(['id', 'sbp', 'tobacco', 'ldl', 'adiposity', 'famhist', 'typea',\n",
            "       'obesity', 'alcohol', 'age', 'chd'],\n",
            "      dtype='object')\n"
          ]
        }
      ]
    },
    {
      "cell_type": "code",
      "source": [
        "tested_positive = dataset.query('chd == 1')\n",
        "tested_negative = dataset.query('chd == 0')\n",
        "\n",
        "preditor_selecionado = 'age' #@param ['sbp', 'tobacco', 'ldl', 'adiposity', 'famhist', 'typea', 'obesity', 'alcohol', 'age']\n",
        "\n",
        "fig, axes = plt.subplots(1,3, figsize=(15,5))\n",
        "fig.suptitle('Histograms of predictor {}'.format(preditor_selecionado))\n",
        "sns.histplot(ax = axes[0], data=dataset, x=preditor_selecionado, bins=20)\n",
        "axes[0].set_title(\"Tested\")\n",
        "\n",
        "sns.histplot(ax = axes[1],data=tested_positive, x=preditor_selecionado, bins=20)\n",
        "axes[1].set_title(\"Positive Tested\")\n",
        "\n",
        "sns.histplot(ax = axes[2],data=tested_negative, x=preditor_selecionado, bins=20)\n",
        "axes[2].set_title(\"Negative Tested\")\n",
        "plt.show()\n"
      ],
      "metadata": {
        "colab": {
          "base_uri": "https://localhost:8080/",
          "height": 370
        },
        "id": "O-fyv7lVx0LX",
        "outputId": "ee61f758-248c-499b-8d18-73b964547e36"
      },
      "execution_count": null,
      "outputs": [
        {
          "output_type": "display_data",
          "data": {
            "image/png": "[encoded data removed]",
            "text/plain": [
              "<Figure size 1080x360 with 3 Axes>"
            ]
          },
          "metadata": {
            "needs_background": "light"
          }
        }
      ]
    },
    {
      "cell_type": "markdown",
      "source": [
        "Baseado nos histogramas acima pode-se concluir:\n",
        "\n",
        "\n",
        "1.   Quanto maior a idade, maior a chance de ser testado positivo\n",
        "2.   alcohol, sbp, e ldl não parecem ser preditores muito úteis para classificação\n",
        "3.   A variável famhist é mais presente quando o paciente é testado positivamente. Enquanto a variável é mais ausente quando o paciente é testado negativamente.\n",
        "4.  Incrivelmente, o fator obesidade e alcohol não é um preditor tão impactante quanto a idade, por exemplo.\n",
        "5.  Inicialmente, achava que quanto maior o alcohol, obesity, tobacco, maior a chance de ser positivo. Porém, ao analisar os histogramas, percebe-se que a lógica é inversa. No caso do tobacco por exemplo, a maior parte se encontra perto do 0. E poucos se encontram perto de 40. Portanto, acredito que quanto menor o valor dessa variável, mais tabaco ela ingeriu. Pois não faz sentido pessoas que usarem mais tabaco terem menos chance de pegar do que quem não usou. Essa lógica se repete para alcohol, \n",
        "\n"
      ],
      "metadata": {
        "id": "_a0dQBgF0n4U"
      }
    },
    {
      "cell_type": "markdown",
      "source": [
        ""
      ],
      "metadata": {
        "id": "BTvuF0g0qDyb"
      }
    },
    {
      "cell_type": "markdown",
      "source": [
        ""
      ],
      "metadata": {
        "id": "A9KWe9SXigfx"
      }
    },
    {
      "cell_type": "markdown",
      "source": [
        "# Questão 2\n",
        "\n",
        "## Referências do código utilizado:\n",
        "https://towardsdatascience.com/cart-classification-and-regression-trees-for-clean-but-powerful-models-cc89e60b7a85\n",
        "https://machinelearningmastery.com/machine-learning-in-python-step-by-step/\n",
        "## Observações\n",
        "\n",
        "\n",
        "1.   Para depth = 3, 'entropy', 'random', acuracia de 0.66666 sem utilizar validação cruzada\n",
        "2.   Para depth = 4, 'entropy', 'random', acuracia de 0.71 sem utilizar validação cruzada\n",
        "3. Não era para a validação cruzada ter um resultado melhor do que em?\n",
        "4. 10 splits foi o que deu melhor resultado de acurácia (68,3%)\n",
        "5. Com 10% dos dados para teste, o EvaluationTest caiu para 0.59. Antes era 0.66\n",
        "6. A precisão para casos positivos foi muito baixa (19%) comparada aos casos negativos (80%). Acredito que isso se deve ao fato de 35% da base de dados ser de casos positivos e 65% de negativos. C\n",
        "\n",
        "\n",
        "\n",
        "\n"
      ],
      "metadata": {
        "id": "YH7dl4ZgnFqu"
      }
    },
    {
      "cell_type": "code",
      "source": [
        "\n",
        "from sklearn.metrics import auc\n",
        "def fitting(X, y):\n",
        "\n",
        "    # Create training and testing samples (Changing the test_size impaccts on cv_results)\n",
        "    X_train, X_test, y_train, y_test = train_test_split(X, y, test_size=0.1, random_state=0)\n",
        "\n",
        "    # Set up test harness using 10-fold cross validation\n",
        "\n",
        "    # Declaring the model, test min_samples and random_state values\n",
        "    model = tree.DecisionTreeClassifier(criterion='gini', splitter='best', max_depth=3, random_state=0)\n",
        "\n",
        "      # DÚVIDA: Ele vai pegar a divisão que eu já fiz no train_test_split e vai dai dividir de novo? \n",
        "      # Qual a diferença do cross_val_score pro model.fit?\n",
        "      # DÚVIDA: Pq minhas predições com os casos de teste foram tão ruins?\n",
        "\n",
        "    # Performing the 10-cross validation \n",
        "\n",
        "    kfold = StratifiedKFold(n_splits = 10, random_state = 1, shuffle=True)\n",
        "    cv_results = cross_val_score(model, X_train, y_train, cv=kfold, scoring='accuracy')\n",
        "    \n",
        "    print(cv_results)\n",
        "    print('%s: %f (%f)' % (\"CART\", cv_results.mean(), cv_results.std()))\n",
        "    \n",
        "    # Training the model using training data\n",
        "    model = model.fit(X_train, y_train)\n",
        "\n",
        "    # Plotting the tree\n",
        "    plt.figure(figsize=(15,7.5))\n",
        "    tree.plot_tree(model, filled=True,rounded=True,class_names=[\"NO CHD\", \"YES CHD\"], feature_names=X.columns);\n",
        "\n",
        "    # Confusion Matrix\n",
        "\n",
        "    plot_confusion_matrix(model, X_test, y_test, display_labels=[\"NO CHD\", \"YES CHD\"])\n",
        "\n",
        "    # AUC ROC\n",
        "\n",
        "    predictions = model.predict_proba(X_test)\n",
        "    fpr, tpr, _ = roc_curve(y_test, predictions[:,1])\n",
        "    \n",
        "    # print(roc_auc_score(y_test, predict_proba[:,1]))\n",
        "\n",
        "    # ROC CURVE\n",
        "\n",
        "    # plt.clf()\n",
        "    # plt.figure(figsize=(5,5),dpi=100)\n",
        "    # plt.plot(fpr,tpr)\n",
        "    # plt.xlabel('False Positive Rate')\n",
        "    # plt.ylabel('True Positive Rate')\n",
        "    # plt.title('ROC curve')\n",
        "    # plt.show()\n",
        "\n",
        "    # AUC ROC Curve\n",
        "\n",
        "    auc_cart = auc(fpr,tpr)\n",
        "    plt.figure(figsize=(5,5), dpi=100)\n",
        "    plt.plot(fpr,tpr,linestyle='-', label='AUC = %0.3f' % auc_cart)\n",
        "    plt.xlabel('False Positive Rate')\n",
        "    plt.title(\"AUC ROC Curve\")\n",
        "    plt.ylabel('True Positive Rate')\n",
        "    plt.legend()\n",
        "    plt.show()\n",
        "\n",
        "    \n",
        "\n",
        "\n",
        "    return X_train, X_test, y_train, y_test\n",
        "\n",
        "\n",
        "                                 \n"
      ],
      "metadata": {
        "id": "4W7cdpuhZe_k"
      },
      "execution_count": null,
      "outputs": []
    },
    {
      "cell_type": "code",
      "source": [
        "X=dataset[['sbp','famhist','tobacco','ldl','adiposity','typea','obesity','alcohol','age']]\n",
        "y=dataset['chd'].values\n",
        "\n",
        "X_train, X_test, y_train, y_test = train_test_split(X, y, test_size=0.1, random_state=0)\n",
        "\n",
        "\n",
        "\n",
        "X_train, X_test, y_train, y_test = fitting(X,y)\n",
        "\n",
        "print('ytest',y_test)\n",
        "\n",
        "\n",
        "\n",
        "\n",
        "\n",
        "\n",
        "\n",
        "# Conforme aumenta a profundidade da árvore, vai se criando um Overfitting\n",
        "# O treinamento fica com uma alta acurácia, porém o test não\n",
        "\n",
        "\n"
      ],
      "metadata": {
        "id": "GJnH69_YnL8D",
        "colab": {
          "base_uri": "https://localhost:8080/",
          "height": 1000
        },
        "outputId": "adc4e21e-5f29-4d50-84f2-cf62964e6558"
      },
      "execution_count": null,
      "outputs": [
        {
          "output_type": "stream",
          "name": "stdout",
          "text": [
            "[0.73809524 0.64285714 0.5952381  0.69047619 0.64285714 0.75609756\n",
            " 0.70731707 0.63414634 0.63414634 0.65853659]\n",
            "CART: 0.669977 (0.048607)\n"
          ]
        },
        {
          "output_type": "stream",
          "name": "stderr",
          "text": [
            "/usr/local/lib/python3.7/dist-packages/sklearn/utils/deprecation.py:87: FutureWarning: Function plot_confusion_matrix is deprecated; Function `plot_confusion_matrix` is deprecated in 1.0 and will be removed in 1.2. Use one of the class methods: ConfusionMatrixDisplay.from_predictions or ConfusionMatrixDisplay.from_estimator.\n",
            "  warnings.warn(msg, category=FutureWarning)\n"
          ]
        },
        {
          "output_type": "display_data",
          "data": {
            "image/png": "[encoded data removed]",
            "text/plain": [
              "<Figure size 1080x540 with 1 Axes>"
            ]
          },
          "metadata": {
            "needs_background": "light"
          }
        },
        {
          "output_type": "display_data",
          "data": {
            "image/png": "[encoded data removed]",
            "text/plain": [
              "<Figure size 432x288 with 2 Axes>"
            ]
          },
          "metadata": {
            "needs_background": "light"
          }
        },
        {
          "output_type": "display_data",
          "data": {
            "image/png": "[encoded data removed]",
            "text/plain": [
              "<Figure size 500x500 with 1 Axes>"
            ]
          },
          "metadata": {
            "needs_background": "light"
          }
        },
        {
          "output_type": "stream",
          "name": "stdout",
          "text": [
            "ytest [1 0 1 1 0 1 0 0 0 1 0 0 1 0 1 1 1 0 1 0 1 0 0 1 0 0 1 0 0 1 0 1 1 1 0 0 0\n",
            " 1 1 0 1 0 0 0 0 1 0]\n"
          ]
        }
      ]
    },
    {
      "cell_type": "code",
      "source": [
        "dataset[['sbp','tobacco','ldl','adiposity','typea','obesity','alcohol','age']]\n",
        "X.columns\n",
        "\n",
        "# ROC AUC https://www.youtube.com/watch?v=TEkvKx2tQHU | https://www.youtube.com/watch?v=4jRBRDbJemM\n",
        "print(\"Accuracy\", 25/47)\n",
        "print(\"PrecisionNEG\", 20/26)\n",
        "print(\"PrecisionPOS\", 5/21)\n",
        "\n"
      ],
      "metadata": {
        "colab": {
          "base_uri": "https://localhost:8080/"
        },
        "id": "COni0N1hd2KO",
        "outputId": "7e0cea94-a226-414c-9ec4-ce6ef284400a"
      },
      "execution_count": null,
      "outputs": [
        {
          "output_type": "stream",
          "name": "stdout",
          "text": [
            "Accuracy 0.5319148936170213\n",
            "PrecisionNEG 0.7692307692307693\n",
            "PrecisionPOS 0.23809523809523808\n"
          ]
        }
      ]
    },
    {
      "cell_type": "markdown",
      "source": [
        "# Questão 3"
      ],
      "metadata": {
        "id": "YmGZh1QGLbVz"
      }
    },
    {
      "cell_type": "code",
      "source": [
        "from numpy import mean\n",
        "from numpy import std\n",
        "from sklearn.model_selection import cross_val_score\n",
        "from sklearn.model_selection import RepeatedStratifiedKFold\n",
        "from sklearn.ensemble import RandomForestClassifier\n",
        "\n",
        "X=dataset[['sbp','famhist','tobacco','ldl','adiposity','typea','obesity','alcohol','age']]\n",
        "y=dataset['chd'].values\n",
        "\n",
        "X_train, X_test, y_train, y_test = train_test_split(X, y, test_size=0.1, random_state=0)\n",
        "\n",
        "rf_model = RandomForestClassifier(n_estimators=100, max_features=9)\n",
        "\n",
        "kfold = StratifiedKFold(n_splits = 10, random_state = 1, shuffle=True)\n",
        "cv_results = cross_val_score(rf_model, X_train, y_train, cv=kfold, scoring='accuracy',error_score='raise')\n",
        "print('%s: %f (%f)' % (\"CART\", cv_results.mean(), cv_results.std()))\n",
        "\n",
        "rf_model.fit(X_train, y_train)\n",
        "\n",
        "predictions = rf_model.predict_proba(X_test)\n",
        "fpr, tpr, _ = roc_curve(y_test,predictions[:,1])\n",
        "\n",
        "# AUC ROC Curve\n",
        "auc_cart = auc(fpr,tpr)\n",
        "plt.figure(figsize=(5,5), dpi=100)\n",
        "plt.plot(fpr,tpr,linestyle='-', label='AUC = %0.3f' % auc_cart)\n",
        "plt.xlabel('False Positive Rate')\n",
        "plt.title(\"AUC ROC Curve\")\n",
        "plt.ylabel('True Positive Rate')\n",
        "plt.legend()\n",
        "plt.show()\n",
        "\n",
        "# Confusion Matrix\n",
        "\n",
        "plot_confusion_matrix(rf_model, X_test, y_test, display_labels=[\"NO CHD\", \"YES CHD\"])\n",
        "\n",
        "# Accuracy and Precision\n",
        "\n",
        "print(\"Accuracy\", 31/47)\n",
        "print(\"PrecisionNEG\", 20/26)\n",
        "print(\"PrecisionPOS\", 11/21)\n",
        "\n",
        "\n",
        "\n",
        "\n",
        "\n",
        "\n",
        "\n",
        "\n"
      ],
      "metadata": {
        "colab": {
          "base_uri": "https://localhost:8080/",
          "height": 866
        },
        "id": "uz6Ixet4Lc0Q",
        "outputId": "14f0cc95-8336-45d1-b7bf-0adbc0172194"
      },
      "execution_count": null,
      "outputs": [
        {
          "output_type": "stream",
          "name": "stdout",
          "text": [
            "CART: 0.689082 (0.060263)\n"
          ]
        },
        {
          "output_type": "display_data",
          "data": {
            "image/png": "[encoded data removed]",
            "text/plain": [
              "<Figure size 500x500 with 1 Axes>"
            ]
          },
          "metadata": {
            "needs_background": "light"
          }
        },
        {
          "output_type": "stream",
          "name": "stdout",
          "text": [
            "Accuracy 0.6595744680851063\n",
            "PrecisionNEG 0.7692307692307693\n",
            "PrecisionPOS 0.5238095238095238\n"
          ]
        },
        {
          "output_type": "stream",
          "name": "stderr",
          "text": [
            "/usr/local/lib/python3.7/dist-packages/sklearn/utils/deprecation.py:87: FutureWarning: Function plot_confusion_matrix is deprecated; Function `plot_confusion_matrix` is deprecated in 1.0 and will be removed in 1.2. Use one of the class methods: ConfusionMatrixDisplay.from_predictions or ConfusionMatrixDisplay.from_estimator.\n",
            "  warnings.warn(msg, category=FutureWarning)\n"
          ]
        },
        {
          "output_type": "display_data",
          "data": {
            "image/png": "[encoded data removed]",
            "text/plain": [
              "<Figure size 432x288 with 2 Axes>"
            ]
          },
          "metadata": {
            "needs_background": "light"
          }
        }
      ]
    },
    {
      "cell_type": "markdown",
      "source": [
        "# Questão 4"
      ],
      "metadata": {
        "id": "Kx2q4pw1Zo5a"
      }
    },
    {
      "cell_type": "code",
      "source": [
        "from numpy import mean\n",
        "from numpy import std\n",
        "from sklearn.model_selection import cross_val_score\n",
        "from sklearn.model_selection import RepeatedStratifiedKFold\n",
        "from sklearn.ensemble import RandomForestClassifier\n",
        "\n",
        "X=dataset[['sbp','famhist','tobacco','ldl','adiposity','typea','obesity','alcohol','age']]\n",
        "y=dataset['chd'].values\n",
        "\n",
        "X_train, X_test, y_train, y_test = train_test_split(X, y, test_size=0.1, random_state=0)\n",
        "\n",
        "print('X_train',len(X_train))\n",
        "print('X_test', len(X_test))\n",
        "print('y_train', len(y_train))\n",
        "print('y_test',len(y_test))\n",
        "rf_model = RandomForestClassifier(n_estimators=100, max_features=3)\n",
        "\n",
        "kfold = StratifiedKFold(n_splits = 10, random_state = 1, shuffle=True)\n",
        "cv_results = cross_val_score(rf_model, X_train, y_train, cv=kfold, scoring='accuracy',error_score='raise')\n",
        "print('%s: %f (%f)' % (\"CART\", cv_results.mean(), cv_results.std()))\n",
        "\n",
        "rf_model.fit(X_train, y_train)\n",
        "\n",
        "predictions = rf_model.predict_proba(X_test)\n",
        "fpr, tpr, _ = roc_curve(y_test,predictions[:,1])\n",
        "\n",
        "# AUC ROC Curve\n",
        "auc_cart = auc(fpr,tpr)\n",
        "plt.figure(figsize=(5,5), dpi=100)\n",
        "plt.plot(fpr,tpr,linestyle='-', label='AUC = %0.3f' % auc_cart)\n",
        "plt.xlabel('False Positive Rate')\n",
        "plt.title(\"AUC ROC Curve\")\n",
        "plt.ylabel('True Positive Rate')\n",
        "plt.legend()\n",
        "plt.show()\n",
        "\n",
        "# Confusion Matrix\n",
        "\n",
        "plot_confusion_matrix(rf_model, X_test, y_test, display_labels=[\"NO CHD\", \"YES CHD\"])\n",
        "\n",
        "# Accuracy and Precision\n",
        "\n",
        "print(\"Accuracy\", 34/47)\n",
        "print(\"PrecisionNEG\", 23/26)\n",
        "print(\"PrecisionPOS\", 11/21)\n",
        "\n",
        "\n",
        "\n",
        "\n",
        "\n",
        "\n",
        "\n",
        "\n"
      ],
      "metadata": {
        "colab": {
          "base_uri": "https://localhost:8080/",
          "height": 936
        },
        "id": "tCwM_Z1bZqP3",
        "outputId": "0460f0a1-7a91-4db7-8cc9-1b3a949aa31e"
      },
      "execution_count": null,
      "outputs": [
        {
          "output_type": "stream",
          "name": "stdout",
          "text": [
            "X_train 415\n",
            "X_test 47\n",
            "y_train 415\n",
            "y_test 47\n",
            "CART: 0.698664 (0.060241)\n"
          ]
        },
        {
          "output_type": "display_data",
          "data": {
            "image/png": "[encoded data removed]",
            "text/plain": [
              "<Figure size 500x500 with 1 Axes>"
            ]
          },
          "metadata": {
            "needs_background": "light"
          }
        },
        {
          "output_type": "stream",
          "name": "stderr",
          "text": [
            "/usr/local/lib/python3.7/dist-packages/sklearn/utils/deprecation.py:87: FutureWarning: Function plot_confusion_matrix is deprecated; Function `plot_confusion_matrix` is deprecated in 1.0 and will be removed in 1.2. Use one of the class methods: ConfusionMatrixDisplay.from_predictions or ConfusionMatrixDisplay.from_estimator.\n",
            "  warnings.warn(msg, category=FutureWarning)\n"
          ]
        },
        {
          "output_type": "stream",
          "name": "stdout",
          "text": [
            "Accuracy 0.723404255319149\n",
            "PrecisionNEG 0.8846153846153846\n",
            "PrecisionPOS 0.5238095238095238\n"
          ]
        },
        {
          "output_type": "display_data",
          "data": {
            "image/png": "[encoded data removed]",
            "text/plain": [
              "<Figure size 432x288 with 2 Axes>"
            ]
          },
          "metadata": {
            "needs_background": "light"
          }
        }
      ]
    },
    {
      "cell_type": "markdown",
      "source": [
        "# Templates"
      ],
      "metadata": {
        "id": "rvaE_BsmYP54"
      }
    },
    {
      "cell_type": "code",
      "source": [
        "\n",
        "\n",
        "def fitting(X, y, criterion, splitter, mdepth, clweight):\n",
        "\n",
        "    # Create training and testing samples\n",
        "    X_train, X_test, y_train, y_test = train_test_split(X, y, test_size=0.2, random_state=0)\n",
        "\n",
        "\n",
        "    # Fit the model\n",
        "    model = tree.DecisionTreeClassifier(criterion=criterion, \n",
        "                                        splitter=splitter, \n",
        "                                        max_depth=mdepth,\n",
        "                                        class_weight=clweight,\n",
        "                                  \n",
        "                                        random_state=0, \n",
        "                                  )\n",
        "    \n",
        "    # Cross validation test\n",
        "    kfold = StratifiedKFold(n_splits=10, random_state=0, shuffle\n",
        "    =True)\n",
        "\n",
        "    cv_results = cross_val_score(model, X_train, y_train, cv=kfold, scoring='accuracy')\n",
        "    print('Results of training CART')\n",
        "    print('%s: %f (%f)' % ('CART', cv_results.mean(), cv_results.std()))\n",
        "\n",
        "                                  \n",
        "    clf = model.fit(X_train, y_train)\n",
        "\n",
        "    # Predict class labels on training data\n",
        "    pred_labels_tr = model.predict(X_train)\n",
        "    # Predict class labels on a test data\n",
        "    pred_labels_te = model.predict(X_test)\n",
        "\n",
        "    # Tree summary and model evaluation metrics\n",
        "    print('*************** Tree Summary ***************')\n",
        "    print('Classes: ', clf.classes_)\n",
        "    print('Tree Depth: ', clf.tree_.max_depth)\n",
        "    print('No. of leaves: ', clf.tree_.n_leaves)\n",
        "    print('No. of features: ', clf.n_features_in_)\n",
        "    print('--------------------------------------------------------')\n",
        "    print(\"\")\n",
        "    \n",
        "\n",
        "    print('*************** Evaluation on Training Data ***************')\n",
        "    score_tr = model.score(X_train, y_train)\n",
        "    print('Accuracy Score: ', score_tr)\n",
        "    # Look at classification report to evaluate the model\n",
        "    print(classification_report(y_train, pred_labels_tr))\n",
        "    print('--------------------------------------------------------')\n",
        "\n",
        "\n",
        "    print('*************** Evaluation on Test Data ***************')\n",
        "    score_te = model.score(X_test, y_test)\n",
        "    print('Accuracy Score: ', score_te)\n",
        "    # Look at classification report to evaluate the model\n",
        "    print(classification_report(y_test, pred_labels_te))\n",
        "    print('--------------------------------------------------------')\n",
        "    print(\"\")\n",
        "    \n",
        "  \n",
        "    \n",
        "    # Plotting Tree\n",
        "    dot_data = tree.export_graphviz(clf, out_file=None, \n",
        "                                feature_names=X.columns, \n",
        "                                class_names=[str(list(clf.classes_)[0]), str(list(clf.classes_)[1])],\n",
        "                                filled=True, \n",
        "                                rounded=True, \n",
        "                                #rotate=True,\n",
        "                               ) \n",
        "    graph = graphviz.Source(dot_data)\n",
        "    \n",
        "    # Return relevant data for chart plotting\n",
        "    return X_train, X_test, y_train, y_test, clf, graph\n",
        "                                 \n"
      ],
      "metadata": {
        "id": "czpiWCEORVQ6"
      },
      "execution_count": null,
      "outputs": []
    }
  ]
}