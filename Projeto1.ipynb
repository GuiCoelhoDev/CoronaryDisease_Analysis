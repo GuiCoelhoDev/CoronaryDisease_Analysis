{
  "nbformat": 4,
  "nbformat_minor": 0,
  "metadata": {
    "colab": {
      "name": "Projeto1.ipynb",
      "provenance": [],
      "collapsed_sections": [
        "ZSoyjeGiXoRU",
        "AhpnTJKNjVgf"
      ],
      "authorship_tag": "ABX9TyNF+H6GWlgy6RpvZ9HQFEvL",
      "include_colab_link": true
    },
    "kernelspec": {
      "name": "python3",
      "display_name": "Python 3"
    },
    "language_info": {
      "name": "python"
    }
  },
  "cells": [
    {
      "cell_type": "markdown",
      "metadata": {
        "id": "view-in-github",
        "colab_type": "text"
      },
      "source": [
        "<a href=\"https://colab.research.google.com/github/GuiCoelhoDev/CoronaryDisease_Analysis/blob/main/Projeto1.ipynb\" target=\"_parent\"><img src=\"https://colab.research.google.com/assets/colab-badge.svg\" alt=\"Open In Colab\"/></a>"
      ]
    },
    {
      "cell_type": "markdown",
      "source": [
        "# Considerações\n",
        "\n",
        "\n"
      ],
      "metadata": {
        "id": "ZSoyjeGiXoRU"
      }
    },
    {
      "cell_type": "markdown",
      "source": [
        "Indice Gini avalia ao gerar a floresta randomica, onde a variavel teve uma melhor resposta.\n",
        "\n",
        "## C.Bishop \"Pattern Recognition\"\n",
        "\n",
        "## Hands on Machine learning with scikit learning\n",
        "\n",
        "## Peter Flach, Machine Learning: the art and science of algorithms that make sense of data\n",
        "\n",
        "Geron\n",
        "\n",
        "Russel\n",
        "\n",
        "\n",
        "\n",
        "1.   \n",
        "2. ROC: Taxa positiva com taxa negativa\n",
        "3. \n"
      ],
      "metadata": {
        "id": "AhpnTJKNjVgf"
      }
    },
    {
      "cell_type": "markdown",
      "source": [
        "Técnicas de Aprendizagem de Máquinas como Árvores de Decisão e Florestas Randômicas têm\n",
        "atingido excelentes resultados na predição/classificação diagnóstica de várias doenças. Um banco\n",
        "de dados foi coletado na África do Sul sobre doenças cardíacas. São 462 amostras com 10 variáveis.\n",
        "A variável chd (coronary heart disease, yes=1, no=0) é a classificação y.\n",
        "O projeto visa aplicar algoritmos de árvores de decisão e Florestas Randômicas para predição de\n",
        "diabetes com base nesses dados. Sua solução deverá incluir:\n",
        "1. Faça uma análise estatística inicial dos dados, plotando as quantidades médias, desvios padrões\n",
        "de todas as variáveis dos dados; (1,0 ponto)\n",
        "2. Construa um modelo de árvore de decisão (ID3, C4.5 ou CART), separando aleatoriamente\n",
        "sempre 10% dos dados para teste, em validação cruzada (com 10 rodadas), e mostre o resultado\n",
        "final em termos de: curva ROC, curva AUC ROC, e matriz de confusão. (2,0 pontos)\n",
        "3. Construa um modelo de “floresta randômica”, com 100 árvores, usando todas as variáveis\n",
        "preditoras (i.e. m=9), separando aleatoriamente sempre 10% dos dados para teste, em validação\n",
        "cruzada (com 10 rodadas), e mostre o resultado final em termos de: curva ROC, curva AUC ROC, e\n",
        "matriz de confusão. (2,0 pontos)\n",
        "4. Construa um modelo de “floresta randômica”, com 100 árvores, usando a raiz quadrada das\n",
        "variaǘeis preditoras (i.e. m=3), separando aleatoriamente sempre 10% dos dados para teste, em\n",
        "validação cruzada (com 10 rodadas), e mostre o resultado final em termos de: curva ROC, curva\n",
        "AUC ROC, e matriz de confusão. (2,0 pontos)\n",
        "5. Mostre, para o caso do melhor resultado, quais as 2 mais importantes/relevantes variáveis\n",
        "preditoras. (1,0 ponto)\n",
        "6. Gere, ou nos comentários do código, ou em um texto à parte as saídas e explicações pedidas no\n",
        "projeto. (2,0 pontos)\n"
      ],
      "metadata": {
        "id": "ImXEnojugOhL"
      }
    },
    {
      "cell_type": "markdown",
      "source": [
        "# Imports and Google Drive Auth"
      ],
      "metadata": {
        "id": "TaiL8ZQWXeI4"
      }
    },
    {
      "cell_type": "code",
      "source": [
        "#@title  Imports\n",
        "!pip install -U -q PyDrive\n",
        "from pydrive.auth import GoogleAuth\n",
        "from pydrive.drive import GoogleDrive\n",
        "from google.colab import auth\n",
        "import pandas as pd\n",
        "from oauth2client.client import GoogleCredentials\n",
        "import seaborn as sns\n",
        "import matplotlib.pyplot as plt\n",
        "from pandas.plotting import scatter_matrix"
      ],
      "metadata": {
        "id": "yktOg1m7iqHA"
      },
      "execution_count": null,
      "outputs": []
    },
    {
      "cell_type": "code",
      "execution_count": null,
      "metadata": {
        "id": "ZOrtUr0UXK27"
      },
      "outputs": [],
      "source": [
        "#@title  Google Drive Auth\n",
        "\n",
        "# Authenticate and create the PyDrive client.\n",
        "auth.authenticate_user()\n",
        "gauth = GoogleAuth()\n",
        "gauth.credentials = GoogleCredentials.get_application_default()\n",
        "drive = GoogleDrive(gauth)\n"
      ]
    },
    {
      "cell_type": "code",
      "source": [
        "#@title Load dataset\n",
        "\n",
        "id = '1QFfy98RZcXYdx2U8SePO1TcYwZ236aPT'\n",
        "downloaded = drive.CreateFile({'id':id}) \n",
        "downloaded.GetContentFile('SA_heart.csv')  \n",
        "dataset = pd.read_csv('SA_heart.csv')\n",
        "dataset\n",
        "# Dataset is now stored in a Pandas Dataframe"
      ],
      "metadata": {
        "colab": {
          "base_uri": "https://localhost:8080/",
          "height": 424
        },
        "id": "4dezB_QVh0rX",
        "outputId": "8add5b98-18dd-4c7e-e758-2cc0e173a13b"
      },
      "execution_count": null,
      "outputs": [
        {
          "output_type": "execute_result",
          "data": {
            "text/html": [
              "\n",
              "  <div id=\"df-e728b94b-fc0f-4adf-85bd-450182c33ae2\">\n",
              "    <div class=\"colab-df-container\">\n",
              "      <div>\n",
              "<style scoped>\n",
              "    .dataframe tbody tr th:only-of-type {\n",
              "        vertical-align: middle;\n",
              "    }\n",
              "\n",
              "    .dataframe tbody tr th {\n",
              "        vertical-align: top;\n",
              "    }\n",
              "\n",
              "    .dataframe thead th {\n",
              "        text-align: right;\n",
              "    }\n",
              "</style>\n",
              "<table border=\"1\" class=\"dataframe\">\n",
              "  <thead>\n",
              "    <tr style=\"text-align: right;\">\n",
              "      <th></th>\n",
              "      <th>id</th>\n",
              "      <th>sbp</th>\n",
              "      <th>tobacco</th>\n",
              "      <th>ldl</th>\n",
              "      <th>adiposity</th>\n",
              "      <th>famhist</th>\n",
              "      <th>typea</th>\n",
              "      <th>obesity</th>\n",
              "      <th>alcohol</th>\n",
              "      <th>age</th>\n",
              "      <th>chd</th>\n",
              "    </tr>\n",
              "  </thead>\n",
              "  <tbody>\n",
              "    <tr>\n",
              "      <th>0</th>\n",
              "      <td>1</td>\n",
              "      <td>160</td>\n",
              "      <td>12.00</td>\n",
              "      <td>5.73</td>\n",
              "      <td>23.11</td>\n",
              "      <td>Present</td>\n",
              "      <td>49</td>\n",
              "      <td>25.30</td>\n",
              "      <td>97.20</td>\n",
              "      <td>52</td>\n",
              "      <td>1</td>\n",
              "    </tr>\n",
              "    <tr>\n",
              "      <th>1</th>\n",
              "      <td>2</td>\n",
              "      <td>144</td>\n",
              "      <td>0.01</td>\n",
              "      <td>4.41</td>\n",
              "      <td>28.61</td>\n",
              "      <td>Absent</td>\n",
              "      <td>55</td>\n",
              "      <td>28.87</td>\n",
              "      <td>2.06</td>\n",
              "      <td>63</td>\n",
              "      <td>1</td>\n",
              "    </tr>\n",
              "    <tr>\n",
              "      <th>2</th>\n",
              "      <td>3</td>\n",
              "      <td>118</td>\n",
              "      <td>0.08</td>\n",
              "      <td>3.48</td>\n",
              "      <td>32.28</td>\n",
              "      <td>Present</td>\n",
              "      <td>52</td>\n",
              "      <td>29.14</td>\n",
              "      <td>3.81</td>\n",
              "      <td>46</td>\n",
              "      <td>0</td>\n",
              "    </tr>\n",
              "    <tr>\n",
              "      <th>3</th>\n",
              "      <td>4</td>\n",
              "      <td>170</td>\n",
              "      <td>7.50</td>\n",
              "      <td>6.41</td>\n",
              "      <td>38.03</td>\n",
              "      <td>Present</td>\n",
              "      <td>51</td>\n",
              "      <td>31.99</td>\n",
              "      <td>24.26</td>\n",
              "      <td>58</td>\n",
              "      <td>1</td>\n",
              "    </tr>\n",
              "    <tr>\n",
              "      <th>4</th>\n",
              "      <td>5</td>\n",
              "      <td>134</td>\n",
              "      <td>13.60</td>\n",
              "      <td>3.50</td>\n",
              "      <td>27.78</td>\n",
              "      <td>Present</td>\n",
              "      <td>60</td>\n",
              "      <td>25.99</td>\n",
              "      <td>57.34</td>\n",
              "      <td>49</td>\n",
              "      <td>1</td>\n",
              "    </tr>\n",
              "    <tr>\n",
              "      <th>...</th>\n",
              "      <td>...</td>\n",
              "      <td>...</td>\n",
              "      <td>...</td>\n",
              "      <td>...</td>\n",
              "      <td>...</td>\n",
              "      <td>...</td>\n",
              "      <td>...</td>\n",
              "      <td>...</td>\n",
              "      <td>...</td>\n",
              "      <td>...</td>\n",
              "      <td>...</td>\n",
              "    </tr>\n",
              "    <tr>\n",
              "      <th>457</th>\n",
              "      <td>459</td>\n",
              "      <td>214</td>\n",
              "      <td>0.40</td>\n",
              "      <td>5.98</td>\n",
              "      <td>31.72</td>\n",
              "      <td>Absent</td>\n",
              "      <td>64</td>\n",
              "      <td>28.45</td>\n",
              "      <td>0.00</td>\n",
              "      <td>58</td>\n",
              "      <td>0</td>\n",
              "    </tr>\n",
              "    <tr>\n",
              "      <th>458</th>\n",
              "      <td>460</td>\n",
              "      <td>182</td>\n",
              "      <td>4.20</td>\n",
              "      <td>4.41</td>\n",
              "      <td>32.10</td>\n",
              "      <td>Absent</td>\n",
              "      <td>52</td>\n",
              "      <td>28.61</td>\n",
              "      <td>18.72</td>\n",
              "      <td>52</td>\n",
              "      <td>1</td>\n",
              "    </tr>\n",
              "    <tr>\n",
              "      <th>459</th>\n",
              "      <td>461</td>\n",
              "      <td>108</td>\n",
              "      <td>3.00</td>\n",
              "      <td>1.59</td>\n",
              "      <td>15.23</td>\n",
              "      <td>Absent</td>\n",
              "      <td>40</td>\n",
              "      <td>20.09</td>\n",
              "      <td>26.64</td>\n",
              "      <td>55</td>\n",
              "      <td>0</td>\n",
              "    </tr>\n",
              "    <tr>\n",
              "      <th>460</th>\n",
              "      <td>462</td>\n",
              "      <td>118</td>\n",
              "      <td>5.40</td>\n",
              "      <td>11.61</td>\n",
              "      <td>30.79</td>\n",
              "      <td>Absent</td>\n",
              "      <td>64</td>\n",
              "      <td>27.35</td>\n",
              "      <td>23.97</td>\n",
              "      <td>40</td>\n",
              "      <td>0</td>\n",
              "    </tr>\n",
              "    <tr>\n",
              "      <th>461</th>\n",
              "      <td>463</td>\n",
              "      <td>132</td>\n",
              "      <td>0.00</td>\n",
              "      <td>4.82</td>\n",
              "      <td>33.41</td>\n",
              "      <td>Present</td>\n",
              "      <td>62</td>\n",
              "      <td>14.70</td>\n",
              "      <td>0.00</td>\n",
              "      <td>46</td>\n",
              "      <td>1</td>\n",
              "    </tr>\n",
              "  </tbody>\n",
              "</table>\n",
              "<p>462 rows × 11 columns</p>\n",
              "</div>\n",
              "      <button class=\"colab-df-convert\" onclick=\"convertToInteractive('df-e728b94b-fc0f-4adf-85bd-450182c33ae2')\"\n",
              "              title=\"Convert this dataframe to an interactive table.\"\n",
              "              style=\"display:none;\">\n",
              "        \n",
              "  <svg xmlns=\"http://www.w3.org/2000/svg\" height=\"24px\"viewBox=\"0 0 24 24\"\n",
              "       width=\"24px\">\n",
              "    <path d=\"M0 0h24v24H0V0z\" fill=\"none\"/>\n",
              "    <path d=\"M18.56 5.44l.94 2.06.94-2.06 2.06-.94-2.06-.94-.94-2.06-.94 2.06-2.06.94zm-11 1L8.5 8.5l.94-2.06 2.06-.94-2.06-.94L8.5 2.5l-.94 2.06-2.06.94zm10 10l.94 2.06.94-2.06 2.06-.94-2.06-.94-.94-2.06-.94 2.06-2.06.94z\"/><path d=\"M17.41 7.96l-1.37-1.37c-.4-.4-.92-.59-1.43-.59-.52 0-1.04.2-1.43.59L10.3 9.45l-7.72 7.72c-.78.78-.78 2.05 0 2.83L4 21.41c.39.39.9.59 1.41.59.51 0 1.02-.2 1.41-.59l7.78-7.78 2.81-2.81c.8-.78.8-2.07 0-2.86zM5.41 20L4 18.59l7.72-7.72 1.47 1.35L5.41 20z\"/>\n",
              "  </svg>\n",
              "      </button>\n",
              "      \n",
              "  <style>\n",
              "    .colab-df-container {\n",
              "      display:flex;\n",
              "      flex-wrap:wrap;\n",
              "      gap: 12px;\n",
              "    }\n",
              "\n",
              "    .colab-df-convert {\n",
              "      background-color: #E8F0FE;\n",
              "      border: none;\n",
              "      border-radius: 50%;\n",
              "      cursor: pointer;\n",
              "      display: none;\n",
              "      fill: #1967D2;\n",
              "      height: 32px;\n",
              "      padding: 0 0 0 0;\n",
              "      width: 32px;\n",
              "    }\n",
              "\n",
              "    .colab-df-convert:hover {\n",
              "      background-color: #E2EBFA;\n",
              "      box-shadow: 0px 1px 2px rgba(60, 64, 67, 0.3), 0px 1px 3px 1px rgba(60, 64, 67, 0.15);\n",
              "      fill: #174EA6;\n",
              "    }\n",
              "\n",
              "    [theme=dark] .colab-df-convert {\n",
              "      background-color: #3B4455;\n",
              "      fill: #D2E3FC;\n",
              "    }\n",
              "\n",
              "    [theme=dark] .colab-df-convert:hover {\n",
              "      background-color: #434B5C;\n",
              "      box-shadow: 0px 1px 3px 1px rgba(0, 0, 0, 0.15);\n",
              "      filter: drop-shadow(0px 1px 2px rgba(0, 0, 0, 0.3));\n",
              "      fill: #FFFFFF;\n",
              "    }\n",
              "  </style>\n",
              "\n",
              "      <script>\n",
              "        const buttonEl =\n",
              "          document.querySelector('#df-e728b94b-fc0f-4adf-85bd-450182c33ae2 button.colab-df-convert');\n",
              "        buttonEl.style.display =\n",
              "          google.colab.kernel.accessAllowed ? 'block' : 'none';\n",
              "\n",
              "        async function convertToInteractive(key) {\n",
              "          const element = document.querySelector('#df-e728b94b-fc0f-4adf-85bd-450182c33ae2');\n",
              "          const dataTable =\n",
              "            await google.colab.kernel.invokeFunction('convertToInteractive',\n",
              "                                                     [key], {});\n",
              "          if (!dataTable) return;\n",
              "\n",
              "          const docLinkHtml = 'Like what you see? Visit the ' +\n",
              "            '<a target=\"_blank\" href=https://colab.research.google.com/notebooks/data_table.ipynb>data table notebook</a>'\n",
              "            + ' to learn more about interactive tables.';\n",
              "          element.innerHTML = '';\n",
              "          dataTable['output_type'] = 'display_data';\n",
              "          await google.colab.output.renderOutput(dataTable, element);\n",
              "          const docLink = document.createElement('div');\n",
              "          docLink.innerHTML = docLinkHtml;\n",
              "          element.appendChild(docLink);\n",
              "        }\n",
              "      </script>\n",
              "    </div>\n",
              "  </div>\n",
              "  "
            ],
            "text/plain": [
              "      id  sbp  tobacco    ldl  adiposity  ... typea  obesity  alcohol  age  chd\n",
              "0      1  160    12.00   5.73      23.11  ...    49    25.30    97.20   52    1\n",
              "1      2  144     0.01   4.41      28.61  ...    55    28.87     2.06   63    1\n",
              "2      3  118     0.08   3.48      32.28  ...    52    29.14     3.81   46    0\n",
              "3      4  170     7.50   6.41      38.03  ...    51    31.99    24.26   58    1\n",
              "4      5  134    13.60   3.50      27.78  ...    60    25.99    57.34   49    1\n",
              "..   ...  ...      ...    ...        ...  ...   ...      ...      ...  ...  ...\n",
              "457  459  214     0.40   5.98      31.72  ...    64    28.45     0.00   58    0\n",
              "458  460  182     4.20   4.41      32.10  ...    52    28.61    18.72   52    1\n",
              "459  461  108     3.00   1.59      15.23  ...    40    20.09    26.64   55    0\n",
              "460  462  118     5.40  11.61      30.79  ...    64    27.35    23.97   40    0\n",
              "461  463  132     0.00   4.82      33.41  ...    62    14.70     0.00   46    1\n",
              "\n",
              "[462 rows x 11 columns]"
            ]
          },
          "metadata": {},
          "execution_count": 4
        }
      ]
    },
    {
      "cell_type": "markdown",
      "source": [
        "# Questão 1\n",
        "\n",
        "### Summarize Data (Análise estatística dos dados)\n",
        "\n",
        "\n",
        "Utilizando o método shape, foi possível perceber que temos 462 amostras com 11 colunas. Sendo 9 colunas sendo variáveis produtoras, uma para o identificador e outra para a classificação da amostra.\n",
        "\n",
        "Posteriormente, foi utilizado o método sample. Foi escolhido ele em vez do head() ou tail() para poder pegar amostras aleatoriamente no dataset. Ao ver 20 amostras aleatórias, acredita-se que pessoas mais velhas tem mais chance de ter chd do que mais novos. Porém, não da pra ter certeza utilizando apenas esse método. É apenas uma hipótese\n",
        "\n",
        "Observando os resultados do describe(), verifiquei que a maior parte das amostras são rotuladas como SEM chd pois a média desse valor está em 0.346320.\n",
        "\n",
        "65% - 0 (hasnt CHD)\n",
        "35% - 1 (has CHD)\n",
        "\n",
        "sbp -> systolic blood pressure\n",
        "\n",
        "Perguntas a serem respondidas:\n",
        "\n",
        "1.   Dado todos os testados positivos, qual a proporção de idade, alcohol, tobacco, etc deles?\n",
        "\n",
        "\n"
      ],
      "metadata": {
        "id": "IWpUd1xiXihE"
      }
    },
    {
      "cell_type": "code",
      "source": [
        "#@title Análises gerais\n",
        "print(\"\\nShape\")\n",
        "print(dataset.shape)\n",
        "print(\"\\nSamples\")\n",
        "print(dataset.sample(20))\n",
        "print(\"\\nDescribe\")\n",
        "print(dataset[['obesity','age', 'alcohol','chd']].describe())\n",
        "print(\"\\Columns\")\n",
        "print(dataset.columns)\n",
        "\n"
      ],
      "metadata": {
        "colab": {
          "base_uri": "https://localhost:8080/"
        },
        "id": "cstEIg21ivcA",
        "outputId": "b161e4e3-ea60-45e3-b6d5-b94f2573a69d"
      },
      "execution_count": null,
      "outputs": [
        {
          "output_type": "stream",
          "name": "stdout",
          "text": [
            "\n",
            "Shape\n",
            "(462, 11)\n",
            "\n",
            "Samples\n",
            "      id  sbp  tobacco    ldl  adiposity  ... typea  obesity  alcohol  age  chd\n",
            "305  307  128     0.00   3.22      26.55  ...    39    26.59    16.71   49    0\n",
            "74    75  128     0.40   6.17      26.35  ...    64    27.86    11.11   34    0\n",
            "334  336  146     1.35   6.39      34.21  ...    51    26.43     0.00   59    1\n",
            "5      6  132     6.20   6.47      36.21  ...    62    30.77    14.14   45    0\n",
            "252  253  166     3.00   3.82      26.75  ...    45    20.86     0.00   63    1\n",
            "415  417  134     1.10   3.54      20.41  ...    58    24.54    39.91   39    1\n",
            "47    48  116     1.91   7.56      26.45  ...    52    30.01     3.60   33    1\n",
            "184  185  116     8.00   6.73      28.81  ...    41    26.74    40.94   48    1\n",
            "390  392  130     0.54   3.63      22.03  ...    69    24.34    12.86   39    1\n",
            "200  201  124     0.16   2.44      16.67  ...    65    24.58    74.91   23    0\n",
            "345  347  198     0.52  11.89      27.68  ...    48    28.40    78.99   26    1\n",
            "160  161  126     1.80   6.22      19.71  ...    65    24.81     0.69   31    0\n",
            "131  132  132     2.00   3.08      35.39  ...    45    31.44    79.82   58    1\n",
            "381  383  140     8.00   4.42      33.15  ...    47    32.77    66.86   44    0\n",
            "323  325  140     8.60   3.90      32.16  ...    52    28.51    11.11   64    1\n",
            "69    70  122     0.00   3.37      16.10  ...    67    21.06     0.00   32    1\n",
            "329  331  144     0.40   4.64      30.09  ...    30    27.39     0.74   55    0\n",
            "175  176  122     4.00   5.24      27.89  ...    45    26.52     0.00   61    1\n",
            "1      2  144     0.01   4.41      28.61  ...    55    28.87     2.06   63    1\n",
            "169  170  162     5.30   7.95      33.58  ...    58    36.06     8.23   48    0\n",
            "\n",
            "[20 rows x 11 columns]\n",
            "\n",
            "Describe\n",
            "          obesity         age     alcohol         chd\n",
            "count  462.000000  462.000000  462.000000  462.000000\n",
            "mean    26.044113   42.816017   17.044394    0.346320\n",
            "std      4.213680   14.608956   24.481059    0.476313\n",
            "min     14.700000   15.000000    0.000000    0.000000\n",
            "25%     22.985000   31.000000    0.510000    0.000000\n",
            "50%     25.805000   45.000000    7.510000    0.000000\n",
            "75%     28.497500   55.000000   23.892500    1.000000\n",
            "max     46.580000   64.000000  147.190000    1.000000\n",
            "\\Columns\n",
            "Index(['id', 'sbp', 'tobacco', 'ldl', 'adiposity', 'famhist', 'typea',\n",
            "       'obesity', 'alcohol', 'age', 'chd'],\n",
            "      dtype='object')\n"
          ]
        }
      ]
    },
    {
      "cell_type": "code",
      "source": [
        "#@title Dado todos os testados, como a população é distribuida?\n",
        "sns.set()\n",
        "plt.figure(figsize=(13,5))\n",
        "preditor_selecionado = 'typea' #@param ['sbp', 'tobacco', 'ldl', 'adiposity', 'famhist', 'typea', 'obesity', 'alcohol', 'age']\n",
        "ax = sns.histplot(data=dataset, x=preditor_selecionado, bins=20) \n",
        "ax.set_title('Histogram - {} x Todos os testados'.format(preditor_selecionado))\n",
        "plt.show()\n",
        "\n"
      ],
      "metadata": {
        "colab": {
          "base_uri": "https://localhost:8080/",
          "height": 355
        },
        "id": "Wsl6PcMFI5iR",
        "outputId": "6a7f50a6-db86-4851-d259-0007a5c30568"
      },
      "execution_count": null,
      "outputs": [
        {
          "output_type": "display_data",
          "data": {
            "image/png": "[encoded data removed]",
            "text/plain": [
              "<Figure size 936x360 with 1 Axes>"
            ]
          },
          "metadata": {}
        }
      ]
    },
    {
      "cell_type": "code",
      "source": [
        "tested_positive = dataset.query('chd == 1')\n",
        "tested_negative = dataset.query('chd == 0')\n",
        "\n",
        "preditor_selecionado = 'famhist' #@param ['sbp', 'tobacco', 'ldl', 'adiposity', 'famhist', 'typea', 'obesity', 'alcohol', 'age']\n",
        "\n",
        "fig, axes = plt.subplots(1,3, figsize=(15,5))\n",
        "fig.suptitle('Histograms of predictor {}'.format(preditor_selecionado))\n",
        "sns.histplot(ax = axes[0], data=dataset, x=preditor_selecionado, bins=20)\n",
        "axes[0].set_title(\"Tested\")\n",
        "\n",
        "sns.histplot(ax = axes[1],data=tested_positive, x=preditor_selecionado, bins=20)\n",
        "axes[1].set_title(\"Positive Tested\")\n",
        "\n",
        "sns.histplot(ax = axes[2],data=tested_negative, x=preditor_selecionado, bins=20)\n",
        "axes[2].set_title(\"Negative Tested\")\n",
        "plt.show()\n"
      ],
      "metadata": {
        "colab": {
          "base_uri": "https://localhost:8080/",
          "height": 375
        },
        "id": "O-fyv7lVx0LX",
        "outputId": "2a950cdb-a348-478f-9d8c-37cf90b17ee1"
      },
      "execution_count": null,
      "outputs": [
        {
          "output_type": "display_data",
          "data": {
            "image/png": "[encoded data removed]",
            "text/plain": [
              "<Figure size 1080x360 with 3 Axes>"
            ]
          },
          "metadata": {}
        }
      ]
    },
    {
      "cell_type": "markdown",
      "source": [
        "Baseado nos histogramas acima pode-se concluir:\n",
        "\n",
        "\n",
        "1.   Quanto maior a idade, maior a chance de ser testado positivo\n",
        "2.   alcohol, sbp, e ldl não parecem ser preditores muito úteis para classificação\n",
        "3.   \n",
        "\n"
      ],
      "metadata": {
        "id": "_a0dQBgF0n4U"
      }
    },
    {
      "cell_type": "markdown",
      "source": [
        ""
      ],
      "metadata": {
        "id": "BTvuF0g0qDyb"
      }
    },
    {
      "cell_type": "markdown",
      "source": [
        ""
      ],
      "metadata": {
        "id": "A9KWe9SXigfx"
      }
    }
  ]
}